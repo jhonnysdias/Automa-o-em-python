{
 "cells": [
  {
   "cell_type": "code",
   "execution_count": 23,
   "id": "d398334b",
   "metadata": {},
   "outputs": [],
   "source": [
    "import pandas\n",
    "import pyautogui\n",
    "import time\n",
    "\n",
    "pyautogui.PAUSE = 1\n",
    "\n",
    "pyautogui.alert('o código vai começar, não use o computador enquanto o código estiver rodando')\n",
    "pyautogui.PAUSE = 1\n",
    "pyautogui.press('winleft')\n",
    "pyautogui.write('chrome')\n",
    "pyautogui.press('enter')\n",
    "time.sleep(1)\n",
    "pyautogui.write('https://www.eadunifatecie.com.br/login/index.php')\n",
    "pyautogui.press('enter')\n",
    "time.sleep(5)\n",
    "pyautogui.click(x=107, y=348)\n",
    "pyautogui.click\n",
    "pyautogui.write('Identificação de usuário')\n",
    "pyautogui.click(x=136, y=412)\n",
    "pyautogui.click\n",
    "pyautogui.write('senha')\n",
    "pyautogui.press('enter')"
   ]
  },
  {
   "cell_type": "markdown",
   "id": "94e506e8",
   "metadata": {},
   "source": []
  },
  {
   "cell_type": "code",
   "execution_count": 20,
   "id": "8479f910",
   "metadata": {},
   "outputs": [
    {
     "data": {
      "text/plain": [
       "Point(x=136, y=412)"
      ]
     },
     "execution_count": 20,
     "metadata": {},
     "output_type": "execute_result"
    }
   ],
   "source": [
    "time.sleep(5)\n",
    "pyautogui.position()"
   ]
  },
  {
   "cell_type": "code",
   "execution_count": null,
   "id": "a607ca4e",
   "metadata": {},
   "outputs": [],
   "source": []
  }
 ],
 "metadata": {
  "kernelspec": {
   "display_name": "Python 3",
   "language": "python",
   "name": "python3"
  },
  "language_info": {
   "codemirror_mode": {
    "name": "ipython",
    "version": 3
   },
   "file_extension": ".py",
   "mimetype": "text/x-python",
   "name": "python",
   "nbconvert_exporter": "python",
   "pygments_lexer": "ipython3",
   "version": "3.8.8"
  }
 },
 "nbformat": 4,
 "nbformat_minor": 5
}
